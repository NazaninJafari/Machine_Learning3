{
 "cells": [
  {
   "cell_type": "code",
   "execution_count": null,
   "id": "24aa4833-6cd5-4cca-9868-8bcfceaaebf9",
   "metadata": {},
   "outputs": [],
   "source": []
  }
 ],
 "metadata": {
  "kernelspec": {
   "display_name": "Python 3 (ipykernel)",
   "language": "python",
   "name": "python3"
  },
  "language_info": {
   "name": ""
  }
 },
 "nbformat": 4,
 "nbformat_minor": 5
}
